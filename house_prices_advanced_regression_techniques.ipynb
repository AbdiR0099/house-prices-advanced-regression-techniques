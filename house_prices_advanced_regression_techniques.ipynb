{
  "nbformat": 4,
  "nbformat_minor": 0,
  "metadata": {
    "colab": {
      "provenance": [],
      "authorship_tag": "ABX9TyNLR/B/hI4SSz05HKWp8bBP"
    },
    "kernelspec": {
      "name": "python3",
      "display_name": "Python 3"
    },
    "language_info": {
      "name": "python"
    }
  },
  "cells": [
    {
      "cell_type": "markdown",
      "source": [
        "## Push to Github"
      ],
      "metadata": {
        "id": "xFzkTG38W4fU"
      }
    },
    {
      "cell_type": "code",
      "source": [
        "# Securely get the token\n",
        "from google.colab import userdata\n",
        "token = userdata.get('GITHUB_TOKEN')\n",
        "\n",
        "# Details\n",
        "username = \"AbdiR0099\"\n",
        "repo = \"house-prices-advanced-regression-techniques\"\n",
        "\n",
        "# Clone the repository\n",
        "!git clone https://{token}@github.com/{username}/{repo}.git\n",
        "\n",
        "# Navigate into the new directory\n",
        "%cd {repo}"
      ],
      "metadata": {
        "colab": {
          "base_uri": "https://localhost:8080/"
        },
        "id": "PdgblE6qCchl",
        "outputId": "3dfb89fe-276d-4098-8bdc-25e360440139"
      },
      "execution_count": 15,
      "outputs": [
        {
          "output_type": "stream",
          "name": "stdout",
          "text": [
            "Cloning into 'house-prices-advanced-regression-techniques'...\n",
            "warning: You appear to have cloned an empty repository.\n",
            "/content/house-prices-advanced-regression-techniques\n"
          ]
        }
      ]
    },
    {
      "cell_type": "code",
      "source": [
        "# Move visualizations Folder to Current Location\n",
        "!mv /content/visualizations ."
      ],
      "metadata": {
        "id": "qv26DvVZdLna"
      },
      "execution_count": 23,
      "outputs": []
    },
    {
      "cell_type": "code",
      "source": [
        "# Check Working Directory\n",
        "!pwd"
      ],
      "metadata": {
        "colab": {
          "base_uri": "https://localhost:8080/"
        },
        "id": "_0giUmQHeo9m",
        "outputId": "3948acc9-88af-4fd8-f368-088a48560290"
      },
      "execution_count": 22,
      "outputs": [
        {
          "output_type": "stream",
          "name": "stdout",
          "text": [
            "/content/house-prices-advanced-regression-techniques\n"
          ]
        }
      ]
    },
    {
      "cell_type": "code",
      "source": [
        "!git config --global user.email \"arsaieed@gmail.com\"\n",
        "!git config --global user.name \"AbdiR0099\"\n",
        "\n",
        "!git add .\n",
        "!git commit -m \"feat: Add Initial Work\"\n",
        "!git push origin main"
      ],
      "metadata": {
        "colab": {
          "base_uri": "https://localhost:8080/"
        },
        "id": "lnoy-SMBfaDm",
        "outputId": "b5ee9ff5-502e-4ab0-9e2c-15bd94d6f063"
      },
      "execution_count": 25,
      "outputs": [
        {
          "output_type": "stream",
          "name": "stdout",
          "text": [
            "[main (root-commit) 3a81ac8] feat: Add Initial Work\n",
            " 5 files changed, 4904 insertions(+)\n",
            " create mode 100644 data/data_description.txt\n",
            " create mode 100644 data/sample_submission.csv\n",
            " create mode 100644 data/test.csv\n",
            " create mode 100644 data/train.csv\n",
            " create mode 100644 visualizations/top_10_null_values.png\n",
            "Enumerating objects: 9, done.\n",
            "Counting objects: 100% (9/9), done.\n",
            "Delta compression using up to 2 threads\n",
            "Compressing objects: 100% (9/9), done.\n",
            "Writing objects: 100% (9/9), 235.19 KiB | 3.73 MiB/s, done.\n",
            "Total 9 (delta 1), reused 0 (delta 0), pack-reused 0\n",
            "remote: Resolving deltas: 100% (1/1), done.\u001b[K\n",
            "To https://github.com/AbdiR0099/house-prices-advanced-regression-techniques.git\n",
            " * [new branch]      main -> main\n"
          ]
        }
      ]
    },
    {
      "cell_type": "markdown",
      "source": [
        "##Libraries:"
      ],
      "metadata": {
        "id": "AJxyTSYvQ6SO"
      }
    },
    {
      "cell_type": "code",
      "source": [
        "# Install Kaggle API client\n",
        "!pip install -q kaggle  # Install silently to reduce console clutter"
      ],
      "metadata": {
        "id": "k_p0WavlcnVg"
      },
      "execution_count": 1,
      "outputs": []
    },
    {
      "cell_type": "code",
      "source": [
        "import os  # For directory and path operations\n",
        "import shutil  # For file movement\n",
        "import zipfile  # For extracting ZIP archives\n",
        "from google.colab import files  # For uploading files to Colab environment\n",
        "import pandas as pd\n",
        "import matplotlib.pyplot as plt\n",
        "import seaborn as sns"
      ],
      "metadata": {
        "id": "ZqRvJSNEQ_H8"
      },
      "execution_count": 11,
      "outputs": []
    },
    {
      "cell_type": "markdown",
      "source": [
        "## Upload Kaggle API Key to Collab and Download Data"
      ],
      "metadata": {
        "id": "Ys6e2c-eQGRi"
      }
    },
    {
      "cell_type": "code",
      "source": [
        "\n",
        "\n",
        "# Upload Kaggle API key\n",
        "files.upload()  # Expects user to upload 'kaggle.json'\n",
        "\n",
        "# Create directory for Kaggle credentials\n",
        "os.makedirs(\"/root/.kaggle\", exist_ok=True)  # Avoids error if directory already exists\n",
        "\n",
        "# Move API key to correct location\n",
        "shutil.move(\"kaggle.json\", \"/root/.kaggle/kaggle.json\")  # Relocates file for API access\n",
        "\n",
        "# Set appropriate file permissions\n",
        "os.chmod(\"/root/.kaggle/kaggle.json\", 0o600)  # Ensures only the owner can read/write\n",
        "\n",
        "# Define constants for competition and data directory\n",
        "COMPETITION_NAME = \"house-prices-advanced-regression-techniques\"  # Kaggle competition identifier\n",
        "DATA_DIR = \"/content/data\"  # Local directory for storing dataset files\n",
        "\n",
        "# Create data directory if it does not exist\n",
        "os.makedirs(DATA_DIR, exist_ok=True)  # Ensures safe download location\n",
        "\n",
        "# Download competition dataset using Kaggle API\n",
        "!kaggle competitions download -c {COMPETITION_NAME} -p {DATA_DIR}  # Downloads ZIP file to specified path\n",
        "\n",
        "# Extract dataset archive\n",
        "with zipfile.ZipFile(os.path.join(DATA_DIR, f\"{COMPETITION_NAME}.zip\"), 'r') as zip_ref:\n",
        "    zip_ref.extractall(DATA_DIR)  # Unpacks all contents into the data directory\n"
      ],
      "metadata": {
        "colab": {
          "base_uri": "https://localhost:8080/",
          "height": 125
        },
        "id": "7Yj4Y5Sy3FJv",
        "outputId": "400e1ceb-7d16-41c8-9b29-f8cef7cb80bd"
      },
      "execution_count": 3,
      "outputs": [
        {
          "output_type": "display_data",
          "data": {
            "text/plain": [
              "<IPython.core.display.HTML object>"
            ],
            "text/html": [
              "\n",
              "     <input type=\"file\" id=\"files-723febcf-f8c7-4dba-aa3d-5de6899b2d4d\" name=\"files[]\" multiple disabled\n",
              "        style=\"border:none\" />\n",
              "     <output id=\"result-723febcf-f8c7-4dba-aa3d-5de6899b2d4d\">\n",
              "      Upload widget is only available when the cell has been executed in the\n",
              "      current browser session. Please rerun this cell to enable.\n",
              "      </output>\n",
              "      <script>// Copyright 2017 Google LLC\n",
              "//\n",
              "// Licensed under the Apache License, Version 2.0 (the \"License\");\n",
              "// you may not use this file except in compliance with the License.\n",
              "// You may obtain a copy of the License at\n",
              "//\n",
              "//      http://www.apache.org/licenses/LICENSE-2.0\n",
              "//\n",
              "// Unless required by applicable law or agreed to in writing, software\n",
              "// distributed under the License is distributed on an \"AS IS\" BASIS,\n",
              "// WITHOUT WARRANTIES OR CONDITIONS OF ANY KIND, either express or implied.\n",
              "// See the License for the specific language governing permissions and\n",
              "// limitations under the License.\n",
              "\n",
              "/**\n",
              " * @fileoverview Helpers for google.colab Python module.\n",
              " */\n",
              "(function(scope) {\n",
              "function span(text, styleAttributes = {}) {\n",
              "  const element = document.createElement('span');\n",
              "  element.textContent = text;\n",
              "  for (const key of Object.keys(styleAttributes)) {\n",
              "    element.style[key] = styleAttributes[key];\n",
              "  }\n",
              "  return element;\n",
              "}\n",
              "\n",
              "// Max number of bytes which will be uploaded at a time.\n",
              "const MAX_PAYLOAD_SIZE = 100 * 1024;\n",
              "\n",
              "function _uploadFiles(inputId, outputId) {\n",
              "  const steps = uploadFilesStep(inputId, outputId);\n",
              "  const outputElement = document.getElementById(outputId);\n",
              "  // Cache steps on the outputElement to make it available for the next call\n",
              "  // to uploadFilesContinue from Python.\n",
              "  outputElement.steps = steps;\n",
              "\n",
              "  return _uploadFilesContinue(outputId);\n",
              "}\n",
              "\n",
              "// This is roughly an async generator (not supported in the browser yet),\n",
              "// where there are multiple asynchronous steps and the Python side is going\n",
              "// to poll for completion of each step.\n",
              "// This uses a Promise to block the python side on completion of each step,\n",
              "// then passes the result of the previous step as the input to the next step.\n",
              "function _uploadFilesContinue(outputId) {\n",
              "  const outputElement = document.getElementById(outputId);\n",
              "  const steps = outputElement.steps;\n",
              "\n",
              "  const next = steps.next(outputElement.lastPromiseValue);\n",
              "  return Promise.resolve(next.value.promise).then((value) => {\n",
              "    // Cache the last promise value to make it available to the next\n",
              "    // step of the generator.\n",
              "    outputElement.lastPromiseValue = value;\n",
              "    return next.value.response;\n",
              "  });\n",
              "}\n",
              "\n",
              "/**\n",
              " * Generator function which is called between each async step of the upload\n",
              " * process.\n",
              " * @param {string} inputId Element ID of the input file picker element.\n",
              " * @param {string} outputId Element ID of the output display.\n",
              " * @return {!Iterable<!Object>} Iterable of next steps.\n",
              " */\n",
              "function* uploadFilesStep(inputId, outputId) {\n",
              "  const inputElement = document.getElementById(inputId);\n",
              "  inputElement.disabled = false;\n",
              "\n",
              "  const outputElement = document.getElementById(outputId);\n",
              "  outputElement.innerHTML = '';\n",
              "\n",
              "  const pickedPromise = new Promise((resolve) => {\n",
              "    inputElement.addEventListener('change', (e) => {\n",
              "      resolve(e.target.files);\n",
              "    });\n",
              "  });\n",
              "\n",
              "  const cancel = document.createElement('button');\n",
              "  inputElement.parentElement.appendChild(cancel);\n",
              "  cancel.textContent = 'Cancel upload';\n",
              "  const cancelPromise = new Promise((resolve) => {\n",
              "    cancel.onclick = () => {\n",
              "      resolve(null);\n",
              "    };\n",
              "  });\n",
              "\n",
              "  // Wait for the user to pick the files.\n",
              "  const files = yield {\n",
              "    promise: Promise.race([pickedPromise, cancelPromise]),\n",
              "    response: {\n",
              "      action: 'starting',\n",
              "    }\n",
              "  };\n",
              "\n",
              "  cancel.remove();\n",
              "\n",
              "  // Disable the input element since further picks are not allowed.\n",
              "  inputElement.disabled = true;\n",
              "\n",
              "  if (!files) {\n",
              "    return {\n",
              "      response: {\n",
              "        action: 'complete',\n",
              "      }\n",
              "    };\n",
              "  }\n",
              "\n",
              "  for (const file of files) {\n",
              "    const li = document.createElement('li');\n",
              "    li.append(span(file.name, {fontWeight: 'bold'}));\n",
              "    li.append(span(\n",
              "        `(${file.type || 'n/a'}) - ${file.size} bytes, ` +\n",
              "        `last modified: ${\n",
              "            file.lastModifiedDate ? file.lastModifiedDate.toLocaleDateString() :\n",
              "                                    'n/a'} - `));\n",
              "    const percent = span('0% done');\n",
              "    li.appendChild(percent);\n",
              "\n",
              "    outputElement.appendChild(li);\n",
              "\n",
              "    const fileDataPromise = new Promise((resolve) => {\n",
              "      const reader = new FileReader();\n",
              "      reader.onload = (e) => {\n",
              "        resolve(e.target.result);\n",
              "      };\n",
              "      reader.readAsArrayBuffer(file);\n",
              "    });\n",
              "    // Wait for the data to be ready.\n",
              "    let fileData = yield {\n",
              "      promise: fileDataPromise,\n",
              "      response: {\n",
              "        action: 'continue',\n",
              "      }\n",
              "    };\n",
              "\n",
              "    // Use a chunked sending to avoid message size limits. See b/62115660.\n",
              "    let position = 0;\n",
              "    do {\n",
              "      const length = Math.min(fileData.byteLength - position, MAX_PAYLOAD_SIZE);\n",
              "      const chunk = new Uint8Array(fileData, position, length);\n",
              "      position += length;\n",
              "\n",
              "      const base64 = btoa(String.fromCharCode.apply(null, chunk));\n",
              "      yield {\n",
              "        response: {\n",
              "          action: 'append',\n",
              "          file: file.name,\n",
              "          data: base64,\n",
              "        },\n",
              "      };\n",
              "\n",
              "      let percentDone = fileData.byteLength === 0 ?\n",
              "          100 :\n",
              "          Math.round((position / fileData.byteLength) * 100);\n",
              "      percent.textContent = `${percentDone}% done`;\n",
              "\n",
              "    } while (position < fileData.byteLength);\n",
              "  }\n",
              "\n",
              "  // All done.\n",
              "  yield {\n",
              "    response: {\n",
              "      action: 'complete',\n",
              "    }\n",
              "  };\n",
              "}\n",
              "\n",
              "scope.google = scope.google || {};\n",
              "scope.google.colab = scope.google.colab || {};\n",
              "scope.google.colab._files = {\n",
              "  _uploadFiles,\n",
              "  _uploadFilesContinue,\n",
              "};\n",
              "})(self);\n",
              "</script> "
            ]
          },
          "metadata": {}
        },
        {
          "output_type": "stream",
          "name": "stdout",
          "text": [
            "Saving kaggle.json to kaggle.json\n",
            "Downloading house-prices-advanced-regression-techniques.zip to /content/data\n",
            "  0% 0.00/199k [00:00<?, ?B/s]\n",
            "100% 199k/199k [00:00<00:00, 527MB/s]\n"
          ]
        }
      ]
    },
    {
      "cell_type": "markdown",
      "source": [
        "## Data Loading & Preprocessing"
      ],
      "metadata": {
        "id": "td3c3wmnQSLB"
      }
    },
    {
      "cell_type": "code",
      "source": [
        "train_df = pd.read_csv(f\"/content/data/train.csv\")\n",
        "test_df = pd.read_csv(f\"/content/data/test.csv\")\n",
        "train_rows, train_cols = train_df.shape\n",
        "test_rows, test_cols = test_df.shape"
      ],
      "metadata": {
        "id": "J3Oz_cli2EBQ"
      },
      "execution_count": 4,
      "outputs": []
    },
    {
      "cell_type": "code",
      "source": [
        "# Merge Data\n",
        "df = pd.concat([train_df,test_df])\n",
        "df.reset_index(drop = True, inplace= True)\n",
        "df.shape"
      ],
      "metadata": {
        "colab": {
          "base_uri": "https://localhost:8080/"
        },
        "id": "EtMgUhLvLwoL",
        "outputId": "cf26ad5c-07bc-4cdb-dad5-51fbbbf11db6"
      },
      "execution_count": 5,
      "outputs": [
        {
          "output_type": "execute_result",
          "data": {
            "text/plain": [
              "(2919, 81)"
            ]
          },
          "metadata": {},
          "execution_count": 5
        }
      ]
    },
    {
      "cell_type": "code",
      "source": [
        "# Check for duplicates in the Merged Data\n",
        "int(df.duplicated().sum())"
      ],
      "metadata": {
        "colab": {
          "base_uri": "https://localhost:8080/"
        },
        "id": "_l6nUIU0MA2I",
        "outputId": "ae5a2527-879e-41f3-a89e-931d08d03fb3"
      },
      "execution_count": 6,
      "outputs": [
        {
          "output_type": "execute_result",
          "data": {
            "text/plain": [
              "0"
            ]
          },
          "metadata": {},
          "execution_count": 6
        }
      ]
    },
    {
      "cell_type": "code",
      "source": [
        "def missing_summary(df,top_n=10):\n",
        "    summary = pd.DataFrame({\n",
        "        'Missing Count': df.isnull().sum(),\n",
        "        'Missing %': (df.isnull().sum() / len(df)) * 100\n",
        "    })\n",
        "    return summary.sort_values(by='Missing Count', ascending=False).head(top_n)"
      ],
      "metadata": {
        "id": "GCJJ_VOL-HvU"
      },
      "execution_count": 8,
      "outputs": []
    },
    {
      "cell_type": "code",
      "source": [
        "def dataframe_overview(df,top_n=15):\n",
        "  summary = pd.DataFrame({\n",
        "      \"Data Type\" : df.dtypes,\n",
        "      \"Count\" : df.count(),\n",
        "      \"Null Values\" : df.isnull().sum(),\n",
        "      \"% Null Values\": (df.isnull().sum() / len(df) * 100),\n",
        "      \"Unique Values\": df.nunique()\n",
        "  })\n",
        "  return summary.sort_values(by = \"% Null Values\", ascending=False).head(top_n)"
      ],
      "metadata": {
        "id": "Ih2hMwpAWAaA"
      },
      "execution_count": 9,
      "outputs": []
    },
    {
      "cell_type": "code",
      "source": [
        "dataframe_overview(df,20)"
      ],
      "metadata": {
        "colab": {
          "base_uri": "https://localhost:8080/",
          "height": 676
        },
        "id": "HMmiFOYZXQHI",
        "outputId": "4fec659c-2159-4118-97cf-5e7a52765a8d"
      },
      "execution_count": 10,
      "outputs": [
        {
          "output_type": "execute_result",
          "data": {
            "text/plain": [
              "             Data Type  Count  Null Values  % Null Values  Unique Values\n",
              "PoolQC          object     10         2909      99.657417              3\n",
              "MiscFeature     object    105         2814      96.402878              4\n",
              "Alley           object    198         2721      93.216855              2\n",
              "Fence           object    571         2348      80.438506              4\n",
              "MasVnrType      object   1153         1766      60.500171              3\n",
              "SalePrice      float64   1460         1459      49.982871            663\n",
              "FireplaceQu     object   1499         1420      48.646797              5\n",
              "LotFrontage    float64   2433          486      16.649538            128\n",
              "GarageCond      object   2760          159       5.447071              5\n",
              "GarageYrBlt    float64   2760          159       5.447071            103\n",
              "GarageFinish    object   2760          159       5.447071              3\n",
              "GarageQual      object   2760          159       5.447071              5\n",
              "GarageType      object   2762          157       5.378554              6\n",
              "BsmtExposure    object   2837           82       2.809181              4\n",
              "BsmtCond        object   2837           82       2.809181              4\n",
              "BsmtQual        object   2838           81       2.774923              4\n",
              "BsmtFinType2    object   2839           80       2.740665              6\n",
              "BsmtFinType1    object   2840           79       2.706406              6\n",
              "MasVnrArea     float64   2896           23       0.787941            444\n",
              "MSZoning        object   2915            4       0.137033              5"
            ],
            "text/html": [
              "\n",
              "  <div id=\"df-a1a864cb-81e1-43af-8e49-02f3cf6f346e\" class=\"colab-df-container\">\n",
              "    <div>\n",
              "<style scoped>\n",
              "    .dataframe tbody tr th:only-of-type {\n",
              "        vertical-align: middle;\n",
              "    }\n",
              "\n",
              "    .dataframe tbody tr th {\n",
              "        vertical-align: top;\n",
              "    }\n",
              "\n",
              "    .dataframe thead th {\n",
              "        text-align: right;\n",
              "    }\n",
              "</style>\n",
              "<table border=\"1\" class=\"dataframe\">\n",
              "  <thead>\n",
              "    <tr style=\"text-align: right;\">\n",
              "      <th></th>\n",
              "      <th>Data Type</th>\n",
              "      <th>Count</th>\n",
              "      <th>Null Values</th>\n",
              "      <th>% Null Values</th>\n",
              "      <th>Unique Values</th>\n",
              "    </tr>\n",
              "  </thead>\n",
              "  <tbody>\n",
              "    <tr>\n",
              "      <th>PoolQC</th>\n",
              "      <td>object</td>\n",
              "      <td>10</td>\n",
              "      <td>2909</td>\n",
              "      <td>99.657417</td>\n",
              "      <td>3</td>\n",
              "    </tr>\n",
              "    <tr>\n",
              "      <th>MiscFeature</th>\n",
              "      <td>object</td>\n",
              "      <td>105</td>\n",
              "      <td>2814</td>\n",
              "      <td>96.402878</td>\n",
              "      <td>4</td>\n",
              "    </tr>\n",
              "    <tr>\n",
              "      <th>Alley</th>\n",
              "      <td>object</td>\n",
              "      <td>198</td>\n",
              "      <td>2721</td>\n",
              "      <td>93.216855</td>\n",
              "      <td>2</td>\n",
              "    </tr>\n",
              "    <tr>\n",
              "      <th>Fence</th>\n",
              "      <td>object</td>\n",
              "      <td>571</td>\n",
              "      <td>2348</td>\n",
              "      <td>80.438506</td>\n",
              "      <td>4</td>\n",
              "    </tr>\n",
              "    <tr>\n",
              "      <th>MasVnrType</th>\n",
              "      <td>object</td>\n",
              "      <td>1153</td>\n",
              "      <td>1766</td>\n",
              "      <td>60.500171</td>\n",
              "      <td>3</td>\n",
              "    </tr>\n",
              "    <tr>\n",
              "      <th>SalePrice</th>\n",
              "      <td>float64</td>\n",
              "      <td>1460</td>\n",
              "      <td>1459</td>\n",
              "      <td>49.982871</td>\n",
              "      <td>663</td>\n",
              "    </tr>\n",
              "    <tr>\n",
              "      <th>FireplaceQu</th>\n",
              "      <td>object</td>\n",
              "      <td>1499</td>\n",
              "      <td>1420</td>\n",
              "      <td>48.646797</td>\n",
              "      <td>5</td>\n",
              "    </tr>\n",
              "    <tr>\n",
              "      <th>LotFrontage</th>\n",
              "      <td>float64</td>\n",
              "      <td>2433</td>\n",
              "      <td>486</td>\n",
              "      <td>16.649538</td>\n",
              "      <td>128</td>\n",
              "    </tr>\n",
              "    <tr>\n",
              "      <th>GarageCond</th>\n",
              "      <td>object</td>\n",
              "      <td>2760</td>\n",
              "      <td>159</td>\n",
              "      <td>5.447071</td>\n",
              "      <td>5</td>\n",
              "    </tr>\n",
              "    <tr>\n",
              "      <th>GarageYrBlt</th>\n",
              "      <td>float64</td>\n",
              "      <td>2760</td>\n",
              "      <td>159</td>\n",
              "      <td>5.447071</td>\n",
              "      <td>103</td>\n",
              "    </tr>\n",
              "    <tr>\n",
              "      <th>GarageFinish</th>\n",
              "      <td>object</td>\n",
              "      <td>2760</td>\n",
              "      <td>159</td>\n",
              "      <td>5.447071</td>\n",
              "      <td>3</td>\n",
              "    </tr>\n",
              "    <tr>\n",
              "      <th>GarageQual</th>\n",
              "      <td>object</td>\n",
              "      <td>2760</td>\n",
              "      <td>159</td>\n",
              "      <td>5.447071</td>\n",
              "      <td>5</td>\n",
              "    </tr>\n",
              "    <tr>\n",
              "      <th>GarageType</th>\n",
              "      <td>object</td>\n",
              "      <td>2762</td>\n",
              "      <td>157</td>\n",
              "      <td>5.378554</td>\n",
              "      <td>6</td>\n",
              "    </tr>\n",
              "    <tr>\n",
              "      <th>BsmtExposure</th>\n",
              "      <td>object</td>\n",
              "      <td>2837</td>\n",
              "      <td>82</td>\n",
              "      <td>2.809181</td>\n",
              "      <td>4</td>\n",
              "    </tr>\n",
              "    <tr>\n",
              "      <th>BsmtCond</th>\n",
              "      <td>object</td>\n",
              "      <td>2837</td>\n",
              "      <td>82</td>\n",
              "      <td>2.809181</td>\n",
              "      <td>4</td>\n",
              "    </tr>\n",
              "    <tr>\n",
              "      <th>BsmtQual</th>\n",
              "      <td>object</td>\n",
              "      <td>2838</td>\n",
              "      <td>81</td>\n",
              "      <td>2.774923</td>\n",
              "      <td>4</td>\n",
              "    </tr>\n",
              "    <tr>\n",
              "      <th>BsmtFinType2</th>\n",
              "      <td>object</td>\n",
              "      <td>2839</td>\n",
              "      <td>80</td>\n",
              "      <td>2.740665</td>\n",
              "      <td>6</td>\n",
              "    </tr>\n",
              "    <tr>\n",
              "      <th>BsmtFinType1</th>\n",
              "      <td>object</td>\n",
              "      <td>2840</td>\n",
              "      <td>79</td>\n",
              "      <td>2.706406</td>\n",
              "      <td>6</td>\n",
              "    </tr>\n",
              "    <tr>\n",
              "      <th>MasVnrArea</th>\n",
              "      <td>float64</td>\n",
              "      <td>2896</td>\n",
              "      <td>23</td>\n",
              "      <td>0.787941</td>\n",
              "      <td>444</td>\n",
              "    </tr>\n",
              "    <tr>\n",
              "      <th>MSZoning</th>\n",
              "      <td>object</td>\n",
              "      <td>2915</td>\n",
              "      <td>4</td>\n",
              "      <td>0.137033</td>\n",
              "      <td>5</td>\n",
              "    </tr>\n",
              "  </tbody>\n",
              "</table>\n",
              "</div>\n",
              "    <div class=\"colab-df-buttons\">\n",
              "\n",
              "  <div class=\"colab-df-container\">\n",
              "    <button class=\"colab-df-convert\" onclick=\"convertToInteractive('df-a1a864cb-81e1-43af-8e49-02f3cf6f346e')\"\n",
              "            title=\"Convert this dataframe to an interactive table.\"\n",
              "            style=\"display:none;\">\n",
              "\n",
              "  <svg xmlns=\"http://www.w3.org/2000/svg\" height=\"24px\" viewBox=\"0 -960 960 960\">\n",
              "    <path d=\"M120-120v-720h720v720H120Zm60-500h600v-160H180v160Zm220 220h160v-160H400v160Zm0 220h160v-160H400v160ZM180-400h160v-160H180v160Zm440 0h160v-160H620v160ZM180-180h160v-160H180v160Zm440 0h160v-160H620v160Z\"/>\n",
              "  </svg>\n",
              "    </button>\n",
              "\n",
              "  <style>\n",
              "    .colab-df-container {\n",
              "      display:flex;\n",
              "      gap: 12px;\n",
              "    }\n",
              "\n",
              "    .colab-df-convert {\n",
              "      background-color: #E8F0FE;\n",
              "      border: none;\n",
              "      border-radius: 50%;\n",
              "      cursor: pointer;\n",
              "      display: none;\n",
              "      fill: #1967D2;\n",
              "      height: 32px;\n",
              "      padding: 0 0 0 0;\n",
              "      width: 32px;\n",
              "    }\n",
              "\n",
              "    .colab-df-convert:hover {\n",
              "      background-color: #E2EBFA;\n",
              "      box-shadow: 0px 1px 2px rgba(60, 64, 67, 0.3), 0px 1px 3px 1px rgba(60, 64, 67, 0.15);\n",
              "      fill: #174EA6;\n",
              "    }\n",
              "\n",
              "    .colab-df-buttons div {\n",
              "      margin-bottom: 4px;\n",
              "    }\n",
              "\n",
              "    [theme=dark] .colab-df-convert {\n",
              "      background-color: #3B4455;\n",
              "      fill: #D2E3FC;\n",
              "    }\n",
              "\n",
              "    [theme=dark] .colab-df-convert:hover {\n",
              "      background-color: #434B5C;\n",
              "      box-shadow: 0px 1px 3px 1px rgba(0, 0, 0, 0.15);\n",
              "      filter: drop-shadow(0px 1px 2px rgba(0, 0, 0, 0.3));\n",
              "      fill: #FFFFFF;\n",
              "    }\n",
              "  </style>\n",
              "\n",
              "    <script>\n",
              "      const buttonEl =\n",
              "        document.querySelector('#df-a1a864cb-81e1-43af-8e49-02f3cf6f346e button.colab-df-convert');\n",
              "      buttonEl.style.display =\n",
              "        google.colab.kernel.accessAllowed ? 'block' : 'none';\n",
              "\n",
              "      async function convertToInteractive(key) {\n",
              "        const element = document.querySelector('#df-a1a864cb-81e1-43af-8e49-02f3cf6f346e');\n",
              "        const dataTable =\n",
              "          await google.colab.kernel.invokeFunction('convertToInteractive',\n",
              "                                                    [key], {});\n",
              "        if (!dataTable) return;\n",
              "\n",
              "        const docLinkHtml = 'Like what you see? Visit the ' +\n",
              "          '<a target=\"_blank\" href=https://colab.research.google.com/notebooks/data_table.ipynb>data table notebook</a>'\n",
              "          + ' to learn more about interactive tables.';\n",
              "        element.innerHTML = '';\n",
              "        dataTable['output_type'] = 'display_data';\n",
              "        await google.colab.output.renderOutput(dataTable, element);\n",
              "        const docLink = document.createElement('div');\n",
              "        docLink.innerHTML = docLinkHtml;\n",
              "        element.appendChild(docLink);\n",
              "      }\n",
              "    </script>\n",
              "  </div>\n",
              "\n",
              "\n",
              "    <div id=\"df-e6807584-9509-4386-8bdf-7e5462cbc954\">\n",
              "      <button class=\"colab-df-quickchart\" onclick=\"quickchart('df-e6807584-9509-4386-8bdf-7e5462cbc954')\"\n",
              "                title=\"Suggest charts\"\n",
              "                style=\"display:none;\">\n",
              "\n",
              "<svg xmlns=\"http://www.w3.org/2000/svg\" height=\"24px\"viewBox=\"0 0 24 24\"\n",
              "     width=\"24px\">\n",
              "    <g>\n",
              "        <path d=\"M19 3H5c-1.1 0-2 .9-2 2v14c0 1.1.9 2 2 2h14c1.1 0 2-.9 2-2V5c0-1.1-.9-2-2-2zM9 17H7v-7h2v7zm4 0h-2V7h2v10zm4 0h-2v-4h2v4z\"/>\n",
              "    </g>\n",
              "</svg>\n",
              "      </button>\n",
              "\n",
              "<style>\n",
              "  .colab-df-quickchart {\n",
              "      --bg-color: #E8F0FE;\n",
              "      --fill-color: #1967D2;\n",
              "      --hover-bg-color: #E2EBFA;\n",
              "      --hover-fill-color: #174EA6;\n",
              "      --disabled-fill-color: #AAA;\n",
              "      --disabled-bg-color: #DDD;\n",
              "  }\n",
              "\n",
              "  [theme=dark] .colab-df-quickchart {\n",
              "      --bg-color: #3B4455;\n",
              "      --fill-color: #D2E3FC;\n",
              "      --hover-bg-color: #434B5C;\n",
              "      --hover-fill-color: #FFFFFF;\n",
              "      --disabled-bg-color: #3B4455;\n",
              "      --disabled-fill-color: #666;\n",
              "  }\n",
              "\n",
              "  .colab-df-quickchart {\n",
              "    background-color: var(--bg-color);\n",
              "    border: none;\n",
              "    border-radius: 50%;\n",
              "    cursor: pointer;\n",
              "    display: none;\n",
              "    fill: var(--fill-color);\n",
              "    height: 32px;\n",
              "    padding: 0;\n",
              "    width: 32px;\n",
              "  }\n",
              "\n",
              "  .colab-df-quickchart:hover {\n",
              "    background-color: var(--hover-bg-color);\n",
              "    box-shadow: 0 1px 2px rgba(60, 64, 67, 0.3), 0 1px 3px 1px rgba(60, 64, 67, 0.15);\n",
              "    fill: var(--button-hover-fill-color);\n",
              "  }\n",
              "\n",
              "  .colab-df-quickchart-complete:disabled,\n",
              "  .colab-df-quickchart-complete:disabled:hover {\n",
              "    background-color: var(--disabled-bg-color);\n",
              "    fill: var(--disabled-fill-color);\n",
              "    box-shadow: none;\n",
              "  }\n",
              "\n",
              "  .colab-df-spinner {\n",
              "    border: 2px solid var(--fill-color);\n",
              "    border-color: transparent;\n",
              "    border-bottom-color: var(--fill-color);\n",
              "    animation:\n",
              "      spin 1s steps(1) infinite;\n",
              "  }\n",
              "\n",
              "  @keyframes spin {\n",
              "    0% {\n",
              "      border-color: transparent;\n",
              "      border-bottom-color: var(--fill-color);\n",
              "      border-left-color: var(--fill-color);\n",
              "    }\n",
              "    20% {\n",
              "      border-color: transparent;\n",
              "      border-left-color: var(--fill-color);\n",
              "      border-top-color: var(--fill-color);\n",
              "    }\n",
              "    30% {\n",
              "      border-color: transparent;\n",
              "      border-left-color: var(--fill-color);\n",
              "      border-top-color: var(--fill-color);\n",
              "      border-right-color: var(--fill-color);\n",
              "    }\n",
              "    40% {\n",
              "      border-color: transparent;\n",
              "      border-right-color: var(--fill-color);\n",
              "      border-top-color: var(--fill-color);\n",
              "    }\n",
              "    60% {\n",
              "      border-color: transparent;\n",
              "      border-right-color: var(--fill-color);\n",
              "    }\n",
              "    80% {\n",
              "      border-color: transparent;\n",
              "      border-right-color: var(--fill-color);\n",
              "      border-bottom-color: var(--fill-color);\n",
              "    }\n",
              "    90% {\n",
              "      border-color: transparent;\n",
              "      border-bottom-color: var(--fill-color);\n",
              "    }\n",
              "  }\n",
              "</style>\n",
              "\n",
              "      <script>\n",
              "        async function quickchart(key) {\n",
              "          const quickchartButtonEl =\n",
              "            document.querySelector('#' + key + ' button');\n",
              "          quickchartButtonEl.disabled = true;  // To prevent multiple clicks.\n",
              "          quickchartButtonEl.classList.add('colab-df-spinner');\n",
              "          try {\n",
              "            const charts = await google.colab.kernel.invokeFunction(\n",
              "                'suggestCharts', [key], {});\n",
              "          } catch (error) {\n",
              "            console.error('Error during call to suggestCharts:', error);\n",
              "          }\n",
              "          quickchartButtonEl.classList.remove('colab-df-spinner');\n",
              "          quickchartButtonEl.classList.add('colab-df-quickchart-complete');\n",
              "        }\n",
              "        (() => {\n",
              "          let quickchartButtonEl =\n",
              "            document.querySelector('#df-e6807584-9509-4386-8bdf-7e5462cbc954 button');\n",
              "          quickchartButtonEl.style.display =\n",
              "            google.colab.kernel.accessAllowed ? 'block' : 'none';\n",
              "        })();\n",
              "      </script>\n",
              "    </div>\n",
              "\n",
              "    </div>\n",
              "  </div>\n"
            ],
            "application/vnd.google.colaboratory.intrinsic+json": {
              "type": "dataframe",
              "summary": "{\n  \"name\": \"dataframe_overview(df,20)\",\n  \"rows\": 20,\n  \"fields\": [\n    {\n      \"column\": \"Data Type\",\n      \"properties\": {\n        \"dtype\": \"category\",\n        \"num_unique_values\": 2,\n        \"samples\": [\n          \"float64\",\n          \"object\"\n        ],\n        \"semantic_type\": \"\",\n        \"description\": \"\"\n      }\n    },\n    {\n      \"column\": \"Count\",\n      \"properties\": {\n        \"dtype\": \"number\",\n        \"std\": 1082,\n        \"min\": 10,\n        \"max\": 2915,\n        \"num_unique_values\": 16,\n        \"samples\": [\n          10,\n          105\n        ],\n        \"semantic_type\": \"\",\n        \"description\": \"\"\n      }\n    },\n    {\n      \"column\": \"Null Values\",\n      \"properties\": {\n        \"dtype\": \"number\",\n        \"std\": 1082,\n        \"min\": 4,\n        \"max\": 2909,\n        \"num_unique_values\": 16,\n        \"samples\": [\n          2909,\n          2814\n        ],\n        \"semantic_type\": \"\",\n        \"description\": \"\"\n      }\n    },\n    {\n      \"column\": \"% Null Values\",\n      \"properties\": {\n        \"dtype\": \"number\",\n        \"std\": 37.07755814604009,\n        \"min\": 0.1370332305584104,\n        \"max\": 99.65741692360398,\n        \"num_unique_values\": 16,\n        \"samples\": [\n          99.65741692360398,\n          96.40287769784173\n        ],\n        \"semantic_type\": \"\",\n        \"description\": \"\"\n      }\n    },\n    {\n      \"column\": \"Unique Values\",\n      \"properties\": {\n        \"dtype\": \"number\",\n        \"std\": 172,\n        \"min\": 2,\n        \"max\": 663,\n        \"num_unique_values\": 9,\n        \"samples\": [\n          6,\n          4\n        ],\n        \"semantic_type\": \"\",\n        \"description\": \"\"\n      }\n    }\n  ]\n}"
            }
          },
          "metadata": {},
          "execution_count": 10
        }
      ]
    },
    {
      "cell_type": "code",
      "source": [
        "## Visualize\n",
        "\n",
        "top_10_null = dataframe_overview(df,10)\n",
        "\n",
        "plt.figure(figsize=(12,8))\n",
        "\n",
        "sns.barplot(\n",
        "    x = \"% Null Values\",\n",
        "    y = top_10_null.index,\n",
        "    data = top_10_null,\n",
        "    palette=\"viridis\"\n",
        ")\n",
        "\n",
        "# Title and Labels\n",
        "plt.title(\"Top 10 Columns with Highest % of Null Values\", fontsize = 16)\n",
        "plt.xlabel(\"Percentage of Null Values (%)\", fontsize = 12)\n",
        "plt.ylabel(\"Column Names\", fontsize= 12)\n",
        "\n",
        "plt.tight_layout()\n",
        "\n",
        "# Save the plot\n",
        "plt.savefig(\"top_10_null_values.png\")\n"
      ],
      "metadata": {
        "colab": {
          "base_uri": "https://localhost:8080/",
          "height": 552
        },
        "id": "HspPQ7dUQ5AK",
        "outputId": "da8e9ee3-027d-47fb-ecd5-2cdedc1aba95"
      },
      "execution_count": 14,
      "outputs": [
        {
          "output_type": "stream",
          "name": "stderr",
          "text": [
            "/tmp/ipython-input-2387929138.py:7: FutureWarning: \n",
            "\n",
            "Passing `palette` without assigning `hue` is deprecated and will be removed in v0.14.0. Assign the `y` variable to `hue` and set `legend=False` for the same effect.\n",
            "\n",
            "  sns.barplot(\n"
          ]
        },
        {
          "output_type": "display_data",
          "data": {
            "text/plain": [
              "<Figure size 1200x800 with 1 Axes>"
            ],
            "image/png": "[encoded data removed]"
          },
          "metadata": {}
        }
      ]
    },
    {
      "cell_type": "markdown",
      "source": [
        "###Handling Null Values:"
      ],
      "metadata": {
        "id": "OlUWGqdgQqmN"
      }
    },
    {
      "cell_type": "code",
      "source": [
        "print(df['PoolQC'].unique())\n",
        "print('')\n",
        "print(df['PoolQC'].value_counts(ascending=False))"
      ],
      "metadata": {
        "colab": {
          "base_uri": "https://localhost:8080/",
          "height": 176
        },
        "id": "7J7XFLvaIknG",
        "outputId": "f05b9160-c2c5-497e-c357-dbd4881862bf"
      },
      "execution_count": null,
      "outputs": [
        {
          "output_type": "error",
          "ename": "NameError",
          "evalue": "name 'df' is not defined",
          "traceback": [
            "\u001b[0;31m---------------------------------------------------------------------------\u001b[0m",
            "\u001b[0;31mNameError\u001b[0m                                 Traceback (most recent call last)",
            "\u001b[0;32m<ipython-input-1-cf84de5296b1>\u001b[0m in \u001b[0;36m<cell line: 0>\u001b[0;34m()\u001b[0m\n\u001b[0;32m----> 1\u001b[0;31m \u001b[0mprint\u001b[0m\u001b[0;34m(\u001b[0m\u001b[0mdf\u001b[0m\u001b[0;34m[\u001b[0m\u001b[0;34m'PoolQC'\u001b[0m\u001b[0;34m]\u001b[0m\u001b[0;34m.\u001b[0m\u001b[0munique\u001b[0m\u001b[0;34m(\u001b[0m\u001b[0;34m)\u001b[0m\u001b[0;34m)\u001b[0m\u001b[0;34m\u001b[0m\u001b[0;34m\u001b[0m\u001b[0m\n\u001b[0m\u001b[1;32m      2\u001b[0m \u001b[0mprint\u001b[0m\u001b[0;34m(\u001b[0m\u001b[0;34m''\u001b[0m\u001b[0;34m)\u001b[0m\u001b[0;34m\u001b[0m\u001b[0;34m\u001b[0m\u001b[0m\n\u001b[1;32m      3\u001b[0m \u001b[0mprint\u001b[0m\u001b[0;34m(\u001b[0m\u001b[0mdf\u001b[0m\u001b[0;34m[\u001b[0m\u001b[0;34m'PoolQC'\u001b[0m\u001b[0;34m]\u001b[0m\u001b[0;34m.\u001b[0m\u001b[0mvalue_counts\u001b[0m\u001b[0;34m(\u001b[0m\u001b[0mascending\u001b[0m\u001b[0;34m=\u001b[0m\u001b[0;32mFalse\u001b[0m\u001b[0;34m)\u001b[0m\u001b[0;34m)\u001b[0m\u001b[0;34m\u001b[0m\u001b[0;34m\u001b[0m\u001b[0m\n",
            "\u001b[0;31mNameError\u001b[0m: name 'df' is not defined"
          ]
        }
      ]
    },
    {
      "cell_type": "markdown",
      "source": [],
      "metadata": {
        "id": "gO_zWpFoZGu3"
      }
    },
    {
      "cell_type": "code",
      "source": [
        "#df[\"PoolQC\"].fillna(\"NA\",inplace=True)\n",
        "values = {\"PoolQC\":\"NA\"}\n",
        "df.fillna(value=values,inplace=True)"
      ],
      "metadata": {
        "id": "75VGDsFCie8c"
      },
      "execution_count": null,
      "outputs": []
    },
    {
      "cell_type": "code",
      "source": [
        "df[\"Alley\"].isnull().sum()"
      ],
      "metadata": {
        "colab": {
          "base_uri": "https://localhost:8080/"
        },
        "id": "WWfb6s4NR7ZZ",
        "outputId": "a9478bed-e2d7-49c9-a0f0-1433d0fc3d4f"
      },
      "execution_count": null,
      "outputs": [
        {
          "output_type": "execute_result",
          "data": {
            "text/plain": [
              "np.int64(2721)"
            ]
          },
          "metadata": {},
          "execution_count": 21
        }
      ]
    },
    {
      "cell_type": "code",
      "source": [],
      "metadata": {
        "id": "PJe7w_MGSwW5"
      },
      "execution_count": null,
      "outputs": []
    }
  ]
}